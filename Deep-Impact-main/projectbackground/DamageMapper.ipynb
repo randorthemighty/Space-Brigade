{
 "cells": [
  {
   "cell_type": "markdown",
   "metadata": {},
   "source": [
    "# Supplementary information for damage mapper tool"
   ]
  },
  {
   "cell_type": "markdown",
   "metadata": {},
   "source": [
    "Development of the damage mapper tool can be broken down into three parts:\n",
    "\n",
    "1. A function `damage_zones` to calculate the coordinates of the surface zero location and the airblast damage radii\n",
    "2. A function to plot the blast zones on a map\n",
    "3. Functions to locate the postcodes (or postcode sectors) within the blast zones `get_postcodes_by_radius` and look up the population in these postcodes `get_population_of_postcodes`.\n",
    "\n",
    "For the extension task you will need to develop additional functions."
   ]
  },
  {
   "cell_type": "markdown",
   "metadata": {},
   "source": [
    "## Airblast damage\n",
    "\n",
    "The rapid deposition of energy in the atmosphere is analogous to an explosion and so the environmental consequences of the airburst can be estimated using empirical data from atmospheric explosion experiments [(Glasstone and Dolan, 1977)](https://www.dtra.mil/Portals/61/Documents/NTPR/4-Rad_Exp_Rpts/36_The_Effects_of_Nuclear_Weapons.pdf).\n",
    "\n",
    "The main cause of damage close to the impact site is a strong (pressure) blastwave in the air, known as the **airblast**. Empirical data suggest that the pressure in this wave $p$ (in Pa) (above ambient, also known as overpressure), as a function of explosion energy $E_k$ (in kilotons of TNT equivalent), burst altitude $z_b$ (in m) and horizontal range $r$ (in m), is given by:\n",
    "\n",
    "\\begin{equation*}\n",
    "p(r) = 3 \\times 10^{11} \\left(\\frac{r^2 + z_b^2}{E_k^{2/3}}\\right)^{-1.3} + 2 \\times 10^{7} \\left(\\frac{r^2 + z_b^2}{E_k^{2/3}}\\right)^{-0.57}\n",
    "\\end{equation*}\n",
    "\n",
    "For airbursts, we will take the total kinetic energy lost by the asteroid at the burst altitude as the burst energy $E_k$. For cratering events, we will define $E_k$ as the **larger** of the total kinetic energy lost by the asteroid at the burst altitude or the residual kinetic energy of the asteroid when it hits the ground.\n",
    "\n",
    "Note that the burst altitude $z_b$ is the vertical distance from the ground to the point of the airburst and the range $r$ is the (great circle) distance along the surface from the \"surface zero point,\" which is the point on the surface that is closest to the point of the airburst (i.e., directly below).\n",
    "\n",
    "The following threshold pressures can then be used to define different degrees of damage.\n",
    "\n",
    "|  Damage Level |  Description    | Pressure (kPa) |\n",
    "|:-------------:|:---------------:|:--------------:|\n",
    "|  1  |  ~10% glass windows shatter    |     1      |\n",
    "|  2  | ~90% glass windows shatter     |     4      |\n",
    "|  3  | Wood frame buildings collapse  |     30      |\n",
    "|  4  | Multistory brick buildings collapse  |     50      |\n",
    "\n",
    "<p>\n",
    "<div align=\"center\">Table 1: Pressure thresholds (in kPa) for airblast damage</div>\n",
    "\n",
    "According to the equations that we will use in this work, an asteoroid of approximately 7-m radius is required to generate overpressures on the ground exceeding 1 kPa, and an asteoroid of approximately 35-m radius is required to generate overpressures on the ground exceeding 50 kPa."
   ]
  },
  {
   "cell_type": "markdown",
   "metadata": {},
   "source": [
    "## Notes on distance, bearing and position\n",
    "\n",
    "To determine the surface zero location (the point on Earth's surface that is closest to the point of airburst) a useful set of spherical geometric formulae relate the bearing, $\\beta$ (also known as forward azimuth) to take to get from one point to another along a great circle,\n",
    "\n",
    "$$\\tan \\beta = \\frac {\\cos \\varphi_2\\sin (\\lambda_2-\\lambda_1)}{\\cos\\varphi_1\\sin\\varphi_2-\\sin\\varphi_1\\cos\\varphi_2\\cos(\\lambda_2-\\lambda_1)},$$\n",
    "\n",
    "where $\\lambda$ is longitude and $\\varphi$ is latitude, as well as the related problem of the final destination given a surface distance and initial bearing:\n",
    "\n",
    "$$\\sin \\varphi_2 = \\sin \\varphi_1\\cos \\left(\\frac{r}{R_p}\\right) +\\cos \\varphi_1\\sin\\left(\\frac{r}{R_p}\\right)\\cos \\beta,$$\n",
    "\n",
    "$$ \\tan(\\lambda_2-\\lambda_1) = \\frac{\\sin\\beta\\sin\\left(\\frac{r}{R_p}\\right)\\cos\\varphi_1}{\\cos\\left(\\frac{r}{R_p}\\right)-\\sin\\varphi_1\\sin\\varphi_2}.$$\n",
    "\n",
    "These formulae can all be derived from the spherical form of the [sine and cosine laws](https://en.wikipedia.org/wiki/Spherical_trigonometry#Cosine_rules_and_sine_rules) using relevant third points."
   ]
  },
  {
   "cell_type": "markdown",
   "metadata": {},
   "source": [
    "## Postcode locations\n",
    "\n",
    "For those of you unfamiliar with UK postcodes, this [link](https://www.getthedata.com/postcode) might be helpful. Each postcode comprises of two strings of alpha-numeric characters that identify the geographic division of the UK. The first one or two letters of the first part of the postcode (before the number) identify the postcode **area** (e.g., WC); the whole of the first part of the postcode identifies the postcode **district**; the first part of the postcode, plus the first number of the second part of the postcode identifies the postcode **sector**. In this project, we will use the full postcode and the postcode sector.\n",
    "\n",
    "<img src=\"images/postcode_map.png\" width=\"640\">"
   ]
  },
  {
   "cell_type": "markdown",
   "metadata": {},
   "source": [
    "The geographic data supplied by running the `download_data.py` script consists of two files. The larger file is `full_postcodes.csv`, which contains a list of current UK postcodes, along with a government-assigned code designating the local administrative area and information on the average (mean) longitude and latitude of the addresses comprising the unit, using the international WGS 84 geodetic datum as supported by modern GPS."
   ]
  },
  {
   "cell_type": "code",
   "execution_count": 1,
   "metadata": {},
   "outputs": [
    {
     "data": {
      "text/html": [
       "<div>\n",
       "<style scoped>\n",
       "    .dataframe tbody tr th:only-of-type {\n",
       "        vertical-align: middle;\n",
       "    }\n",
       "\n",
       "    .dataframe tbody tr th {\n",
       "        vertical-align: top;\n",
       "    }\n",
       "\n",
       "    .dataframe thead th {\n",
       "        text-align: right;\n",
       "    }\n",
       "</style>\n",
       "<table border=\"1\" class=\"dataframe\">\n",
       "  <thead>\n",
       "    <tr style=\"text-align: right;\">\n",
       "      <th></th>\n",
       "      <th>Postcode</th>\n",
       "      <th>LAU218CD</th>\n",
       "      <th>Latitude</th>\n",
       "      <th>Longitude</th>\n",
       "    </tr>\n",
       "  </thead>\n",
       "  <tbody>\n",
       "    <tr>\n",
       "      <th>0</th>\n",
       "      <td>AB101AB</td>\n",
       "      <td>S31000932</td>\n",
       "      <td>57.149606</td>\n",
       "      <td>-2.096916</td>\n",
       "    </tr>\n",
       "    <tr>\n",
       "      <th>1</th>\n",
       "      <td>AB101AF</td>\n",
       "      <td>S31000932</td>\n",
       "      <td>57.148707</td>\n",
       "      <td>-2.097806</td>\n",
       "    </tr>\n",
       "    <tr>\n",
       "      <th>2</th>\n",
       "      <td>AB101AG</td>\n",
       "      <td>S31000932</td>\n",
       "      <td>57.149051</td>\n",
       "      <td>-2.097004</td>\n",
       "    </tr>\n",
       "    <tr>\n",
       "      <th>3</th>\n",
       "      <td>AB101AH</td>\n",
       "      <td>S31000932</td>\n",
       "      <td>57.148080</td>\n",
       "      <td>-2.094664</td>\n",
       "    </tr>\n",
       "    <tr>\n",
       "      <th>4</th>\n",
       "      <td>AB101AL</td>\n",
       "      <td>S31000932</td>\n",
       "      <td>57.150058</td>\n",
       "      <td>-2.095916</td>\n",
       "    </tr>\n",
       "  </tbody>\n",
       "</table>\n",
       "</div>"
      ],
      "text/plain": [
       "  Postcode   LAU218CD   Latitude  Longitude\n",
       "0  AB101AB  S31000932  57.149606  -2.096916\n",
       "1  AB101AF  S31000932  57.148707  -2.097806\n",
       "2  AB101AG  S31000932  57.149051  -2.097004\n",
       "3  AB101AH  S31000932  57.148080  -2.094664\n",
       "4  AB101AL  S31000932  57.150058  -2.095916"
      ]
     },
     "execution_count": 1,
     "metadata": {},
     "output_type": "execute_result"
    }
   ],
   "source": [
    "import pandas as pd\n",
    "postcodes = pd.read_csv('./resources/full_postcodes.csv')\n",
    "postcodes.head()"
   ]
  },
  {
   "cell_type": "markdown",
   "metadata": {},
   "source": [
    "The smaller file is `resources/UK_residential_population_2011_latlon.asc`, which contains a 1km x 1km grid of population data for the UK. Also in that file are the latitude and longitude associated with the centre of each grid cell, using the same international WGS 84 geodetic datum as the postcodes file. For grid cells with no data (e.g. in the sea), a value of -9999 is assigned."
   ]
  },
  {
   "cell_type": "markdown",
   "metadata": {},
   "source": [
    "## Notes on longitude, latitude and distance\n",
    "\n",
    "Given a pair of points by longitude and latitude, converting this into a distance between them can be a surprisingly involved calculation, involving a successively improving model of the shape of the Earth (the geoid). At the lowest reasonable level of approximation, in which the Earth is considered spherical, points at the same longitude satisfy a formula\n",
    "$$|\\varphi_1 -\\varphi_2| = \\frac{r}{R_p}$$\n",
    "where the $\\varphi$s are the latitudes (in radians), $r$ the surface distance between the points and $R_p$ the radius of the earth. As long as $r$ and $R_p$ are in the same units, the choice doesn't matter, but metres are usually to be preferred. For points at the same latitude, a similar formula applies, \n",
    "$$|\\lambda_1 -\\lambda_2| = \\frac{r}{R_p\\cos\\varphi},$$\n",
    "where the $\\lambda$s are the longitudes and the $\\varphi$ is the common latitude. In the general case a number of different formulas exist. [Among the more popular](https://en.wikipedia.org/wiki/Great-circle_distance) are the Haversine formula\n",
    "$$\\frac{r}{R_p} = 2\\arcsin\\sqrt{\\sin^2 \\frac{|\\varphi_1-\\varphi_2|}{2}+\\cos\\varphi_1\\cos\\varphi_2\\sin^2\\frac{|\\lambda_1-\\lambda_2|}{2}},$$\n",
    "the spherical Vincenty formula\n",
    "$$\\frac{r}{R_p}=\\arctan\\frac{\\sqrt{(\\cos\\varphi_2\\sin|\\lambda_1-\\lambda_2|)^2+(\\cos\\varphi_1\\sin\\varphi_2-\\sin\\varphi_1\\cos\\varphi_2\\cos|\\lambda_1-\\lambda_2|)^2}}{\\sin\\varphi_1 \\sin\\varphi_2+\\cos\\varphi_1\\cos\\varphi_2\\cos|\\lambda_1-\\lambda_2|},$$\n",
    "and the law of spherical cosines,\n",
    "$$\\frac{r}{R_p}=\\arccos\\left(\\sin\\varphi_1\\sin\\varphi_2+\\cos\\varphi_1\\cos\\varphi_2\\cos|\\lambda_1-\\lambda_2|\\right).$$\n",
    "At short distances linearizations such as Pythagoras can also be used. \n",
    "\n",
    "Which formulae to choose is a balance between the cost of calculation and the accuracy of the result, which also depends on the specifics of the implementation. For example the two argument (also called `arctan2`) inverse tangent function should be preferred when needed (and available). In general the cheaper formulas have fewer trignometric function evaluations and square root calculations.\n",
    "\n",
    "For this project, you should assume a spherical Earth and use one of the above approximations, but you may be interested to know that at the next level of approximation, the Earth is considered as an oblate spheriod (i.e. flattened sphere) and the full, iterative version of [Vincenty's formulae](https://en.wikipedia.org/wiki/Vincenty%27s_formulae) can be used. Further improvement includes local effects and acknowledges the implications of land elevation, but that sits well outside the scope of this exercise."
   ]
  },
  {
   "cell_type": "markdown",
   "metadata": {},
   "source": [
    "## Extended functionality\n",
    "\n",
    "Additional credit will be given if your damage mapper function demonstrates the following extended capabilities:\n",
    "\n",
    "* The ability to present the software output on a map. The graphics should be designed to be appropriate for use in emergency response and evacuation planning.\n",
    "* The ability to perform a simple uncertainty analysis that takes as input a table of impact scenarios, and calculates a probability for each affected UK postcode, and the total population affected."
   ]
  },
  {
   "cell_type": "markdown",
   "metadata": {},
   "source": [
    "### Plotting on a map\n",
    "\n",
    "As one possible approach, we have provided a function to plot a circle on a map using the `folium` package. You can use `folium` and expand on this function or you may prefer to use a different package. Please check with us that the mapping package you wish to use is permissible before you start."
   ]
  },
  {
   "cell_type": "code",
   "execution_count": 2,
   "metadata": {
    "scrolled": false
   },
   "outputs": [
    {
     "data": {
      "text/html": [
       "<div style=\"width:100%;\"><div style=\"position:relative;width:100%;height:0;padding-bottom:60%;\"><span style=\"color:#565656\">Make this Notebook Trusted to load map: File -> Trust Notebook</span><iframe srcdoc=\"&lt;!DOCTYPE html&gt;\n",
       "&lt;html&gt;\n",
       "&lt;head&gt;\n",
       "    \n",
       "    &lt;meta http-equiv=&quot;content-type&quot; content=&quot;text/html; charset=UTF-8&quot; /&gt;\n",
       "    \n",
       "        &lt;script&gt;\n",
       "            L_NO_TOUCH = false;\n",
       "            L_DISABLE_3D = false;\n",
       "        &lt;/script&gt;\n",
       "    \n",
       "    &lt;style&gt;html, body {width: 100%;height: 100%;margin: 0;padding: 0;}&lt;/style&gt;\n",
       "    &lt;style&gt;#map {position:absolute;top:0;bottom:0;right:0;left:0;}&lt;/style&gt;\n",
       "    &lt;script src=&quot;https://cdn.jsdelivr.net/npm/leaflet@1.6.0/dist/leaflet.js&quot;&gt;&lt;/script&gt;\n",
       "    &lt;script src=&quot;https://code.jquery.com/jquery-1.12.4.min.js&quot;&gt;&lt;/script&gt;\n",
       "    &lt;script src=&quot;https://maxcdn.bootstrapcdn.com/bootstrap/3.2.0/js/bootstrap.min.js&quot;&gt;&lt;/script&gt;\n",
       "    &lt;script src=&quot;https://cdnjs.cloudflare.com/ajax/libs/Leaflet.awesome-markers/2.0.2/leaflet.awesome-markers.js&quot;&gt;&lt;/script&gt;\n",
       "    &lt;link rel=&quot;stylesheet&quot; href=&quot;https://cdn.jsdelivr.net/npm/leaflet@1.6.0/dist/leaflet.css&quot;/&gt;\n",
       "    &lt;link rel=&quot;stylesheet&quot; href=&quot;https://maxcdn.bootstrapcdn.com/bootstrap/3.2.0/css/bootstrap.min.css&quot;/&gt;\n",
       "    &lt;link rel=&quot;stylesheet&quot; href=&quot;https://maxcdn.bootstrapcdn.com/bootstrap/3.2.0/css/bootstrap-theme.min.css&quot;/&gt;\n",
       "    &lt;link rel=&quot;stylesheet&quot; href=&quot;https://maxcdn.bootstrapcdn.com/font-awesome/4.6.3/css/font-awesome.min.css&quot;/&gt;\n",
       "    &lt;link rel=&quot;stylesheet&quot; href=&quot;https://cdnjs.cloudflare.com/ajax/libs/Leaflet.awesome-markers/2.0.2/leaflet.awesome-markers.css&quot;/&gt;\n",
       "    &lt;link rel=&quot;stylesheet&quot; href=&quot;https://cdn.jsdelivr.net/gh/python-visualization/folium/folium/templates/leaflet.awesome.rotate.min.css&quot;/&gt;\n",
       "    \n",
       "            &lt;meta name=&quot;viewport&quot; content=&quot;width=device-width,\n",
       "                initial-scale=1.0, maximum-scale=1.0, user-scalable=no&quot; /&gt;\n",
       "            &lt;style&gt;\n",
       "                #map_f5101602d186c45e1a11346e99894d3a {\n",
       "                    position: relative;\n",
       "                    width: 100.0%;\n",
       "                    height: 100.0%;\n",
       "                    left: 0.0%;\n",
       "                    top: 0.0%;\n",
       "                }\n",
       "            &lt;/style&gt;\n",
       "        \n",
       "&lt;/head&gt;\n",
       "&lt;body&gt;\n",
       "    \n",
       "    \n",
       "            &lt;div class=&quot;folium-map&quot; id=&quot;map_f5101602d186c45e1a11346e99894d3a&quot; &gt;&lt;/div&gt;\n",
       "        \n",
       "&lt;/body&gt;\n",
       "&lt;script&gt;\n",
       "    \n",
       "    \n",
       "            var map_f5101602d186c45e1a11346e99894d3a = L.map(\n",
       "                &quot;map_f5101602d186c45e1a11346e99894d3a&quot;,\n",
       "                {\n",
       "                    center: [53.0, 0.0],\n",
       "                    crs: L.CRS.EPSG3857,\n",
       "                    zoom: 10,\n",
       "                    zoomControl: true,\n",
       "                    preferCanvas: false,\n",
       "                }\n",
       "            );\n",
       "            L.control.scale().addTo(map_f5101602d186c45e1a11346e99894d3a);\n",
       "\n",
       "            \n",
       "\n",
       "        \n",
       "    \n",
       "            var tile_layer_24ac4d46faa1723d42f8d64f38b2c75e = L.tileLayer(\n",
       "                &quot;https://{s}.tile.openstreetmap.org/{z}/{x}/{y}.png&quot;,\n",
       "                {&quot;attribution&quot;: &quot;Data by \\u0026copy; \\u003ca href=\\&quot;http://openstreetmap.org\\&quot;\\u003eOpenStreetMap\\u003c/a\\u003e, under \\u003ca href=\\&quot;http://www.openstreetmap.org/copyright\\&quot;\\u003eODbL\\u003c/a\\u003e.&quot;, &quot;detectRetina&quot;: false, &quot;maxNativeZoom&quot;: 18, &quot;maxZoom&quot;: 18, &quot;minZoom&quot;: 0, &quot;noWrap&quot;: false, &quot;opacity&quot;: 1, &quot;subdomains&quot;: &quot;abc&quot;, &quot;tms&quot;: false}\n",
       "            ).addTo(map_f5101602d186c45e1a11346e99894d3a);\n",
       "        \n",
       "    \n",
       "            var circle_190ecdab15dfdf1a14e370bc0c219772 = L.circle(\n",
       "                [53.0, 0.0],\n",
       "                {&quot;bubblingMouseEvents&quot;: true, &quot;color&quot;: &quot;#3388ff&quot;, &quot;dashArray&quot;: null, &quot;dashOffset&quot;: null, &quot;fill&quot;: true, &quot;fillColor&quot;: &quot;#3388ff&quot;, &quot;fillOpacity&quot;: 0.2, &quot;fillRule&quot;: &quot;evenodd&quot;, &quot;lineCap&quot;: &quot;round&quot;, &quot;lineJoin&quot;: &quot;round&quot;, &quot;opacity&quot;: 1.0, &quot;radius&quot;: 10000.0, &quot;stroke&quot;: true, &quot;weight&quot;: 3}\n",
       "            ).addTo(map_f5101602d186c45e1a11346e99894d3a);\n",
       "        \n",
       "&lt;/script&gt;\n",
       "&lt;/html&gt;\" style=\"position:absolute;width:100%;height:100%;left:0;top:0;border:none !important;\" allowfullscreen webkitallowfullscreen mozallowfullscreen></iframe></div></div>"
      ],
      "text/plain": [
       "<folium.folium.Map at 0x107f5b640>"
      ]
     },
     "execution_count": 2,
     "metadata": {},
     "output_type": "execute_result"
    }
   ],
   "source": [
    "import folium\n",
    "import deepimpact\n",
    "deepimpact.plot_circle(53., 0., 10000.) #Plots a circle of radius 10000 m at the lat, lon: 53., 0."
   ]
  },
  {
   "cell_type": "markdown",
   "metadata": {},
   "source": [
    "### Uncertainty analysis\n",
    "\n",
    "For this second extension exercise, a separate function `impact_risk` should be written that takes a .csv file as an input. The file will contain a distribution of scenarios, with prescribed values of the radius, angle, velocity, density, strength, entry latitude, entry longitude and bearing for each event. \n",
    "\n",
    "Your function should read this file, and calculate two things:\n",
    "\n",
    "1. The fractional probability that each postcode is within a specified damage level, where the probability is defined as the number of times the postcode is within the specified damage level divided by the number of scenarios in the .csv file. \n",
    "\n",
    "2. The mean and standard deviation of the total population affected by the impact. In this case, we will consider the population affected in a given scenario to be the total population inside the blast radius of a damage level specified by the user as a pressure. For scoring, we will use 30 kPa (wooden buildings collapse).\n",
    "\n",
    "\n",
    "The risk calculator should output a Pandas dataframe with two columns: postcode and probability; and a dictionary with the mean and standard deviation of the total population affected."
   ]
  },
  {
   "cell_type": "code",
   "execution_count": null,
   "metadata": {},
   "outputs": [],
   "source": []
  }
 ],
 "metadata": {
  "hide_input": false,
  "kernelspec": {
   "display_name": "Python 3 (ipykernel)",
   "language": "python",
   "name": "python3"
  },
  "language_info": {
   "codemirror_mode": {
    "name": "ipython",
    "version": 3
   },
   "file_extension": ".py",
   "mimetype": "text/x-python",
   "name": "python",
   "nbconvert_exporter": "python",
   "pygments_lexer": "ipython3",
   "version": "3.10.8"
  },
  "toc": {
   "base_numbering": 1,
   "nav_menu": {},
   "number_sections": false,
   "sideBar": true,
   "skip_h1_title": false,
   "title_cell": "Table of Contents",
   "title_sidebar": "Contents",
   "toc_cell": false,
   "toc_position": {},
   "toc_section_display": true,
   "toc_window_display": false
  }
 },
 "nbformat": 4,
 "nbformat_minor": 2
}
