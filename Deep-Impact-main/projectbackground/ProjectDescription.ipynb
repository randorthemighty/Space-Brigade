{
 "cells": [
  {
   "cell_type": "markdown",
   "metadata": {
    "slideshow": {
     "slide_type": "slide"
    }
   },
   "source": [
    "\n",
    "# Deep Impact - The Hazard of Small Asteroids"
   ]
  },
  {
   "cell_type": "markdown",
   "metadata": {
    "slideshow": {
     "slide_type": "notes"
    }
   },
   "source": [
    "## Synopsis:\n",
    "\n",
    "Asteroids entering Earth’s atmosphere are subject to extreme drag forces that decelerate, heat and disrupt the space rocks. The fate of an asteroid is a complex function of its initial mass, speed, trajectory angle and internal strength. \n",
    "\n",
    "[Asteroids](https://en.wikipedia.org/wiki/Asteroid) 10-100 m in diameter can penetrate deep into Earth’s atmosphere and disrupt catastrophically, generating an atmospheric disturbance ([airburst](https://en.wikipedia.org/wiki/Air_burst)) that can cause [damage on the ground](https://www.youtube.com/watch?v=tq02C_3FvFo). Such an event occurred over the city of [Chelyabinsk](https://en.wikipedia.org/wiki/Chelyabinsk_meteor) in Russia, in 2013, releasing energy equivalent to about 520 [kilotons of TNT](https://en.wikipedia.org/wiki/TNT_equivalent) (1 kt TNT is equivalent to $4.184 \\times 10^{12}$ J), and injuring thousands of people ([Popova et al., 2013](http://doi.org/10.1126/science.1242642); [Brown et al., 2013](http://doi.org/10.1038/nature12741)). An even larger event occurred over [Tunguska](https://en.wikipedia.org/wiki/Tunguska_event), a relatively unpopulated area in Siberia, in 1908. \n",
    "\n",
    "<img src=\"images/chelyabinsk.png\" width=\"640\">\n",
    "\n",
    "The purpose of this exercise is to (a) develop a fast numerical simulator to predict the fate of asteroids entering Earth’s atmosphere, and (b) use this simulator to develop a hazard mapper for an impact over the UK.\n"
   ]
  },
  {
   "cell_type": "markdown",
   "metadata": {
    "slideshow": {
     "slide_type": "notes"
    }
   },
   "source": [
    "## Problem definition\n",
    "\n",
    "### Equations\n",
    "\n",
    "The dynamics of an asteroid in Earth’s atmosphere prior to break-up is governed by a coupled set of ordinary differential equations:\n",
    "\n",
    "\n",
    "<table width=\"600\">\n",
    "    <tbody>\n",
    "        <tr style=\"background-color: #FFFFFF;\">\n",
    "            <td><img src=\"images/variables.png\" width=\"220\"> </td>\n",
    "            <td>\n",
    "Equations are in the cell below:\n",
    "            </td>\n",
    "        </tr>\n",
    "    </tbody>\n",
    "</table>\n",
    "\n",
    "In these equations, $v$, $m$, and $A$ are the asteroid speed (along trajectory), mass and cross-sectional area, respectively. We will assume an initially **spherical asteroid** to convert from initial radius to mass (and cross-sectional area). $\\theta$ is the meteoroid trajectory angle to the horizontal (in radians), $x$ is the downrange distance of the meteoroid from its entry position, $z$ is the altitude and $t$ is time; $C_D$ is the drag coefficient, $g$ is the surface gravity, $\\rho_a$ is the atmospheric density (a function of altitude), $C_H$ is an ablation efficiency coefficient, $Q$ is the specific heat of ablation; $C_L$ is a lift coefficient; and $R_P$ is the planetary radius. All terms use MKS units.\n"
   ]
  },
  {
   "cell_type": "markdown",
   "metadata": {},
   "source": [
    "\\begin{aligned} \n",
    "\\frac{dv}{dt} & = \\frac{-C_D\\rho_a A v^2}{2 m} + g \\sin \\theta \\\\\n",
    "\\frac{dm}{dt} & = \\frac{-C_H\\rho_a A v^3}{2 Q} \\\\\n",
    "\\frac{d\\theta}{dt} & = \\frac{g\\cos\\theta}{v} - \\frac{C_L\\rho_a A v}{2 m} - \\frac{v\\cos\\theta}{R_P + z} \\\\\n",
    "\\frac{dz}{dt} & = -v\\sin\\theta \\\\\n",
    "\\frac{dx}{dt} & = \\frac{v\\cos\\theta}{1 + z/R_P}\n",
    "\\end{aligned}\n"
   ]
  },
  {
   "cell_type": "markdown",
   "metadata": {
    "slideshow": {
     "slide_type": "notes"
    }
   },
   "source": [
    "A commonly used criterion for the break-up of an asteroid in the atmosphere is when the ram pressure of the air interacting with the asteroid $\\rho_a v^2$ first exceeds the strength of the asteroid $Y$.\n",
    "\n",
    "$$\\rho_a v^2 = Y$$\n",
    "\n",
    "Should break-up occur, the asteroid deforms and spreads laterally as it continues its passage through the atmosphere. Several models for the spreading rate have been proposed. In the simplest model, the fragmented asteroid’s spreading rate is related to its along trajectory speed [(Hills and Goda, 1993)](http://doi.org/10.1086/116499):\n",
    "\n",
    "$$ \\frac{dr}{dt} = \\left[\\frac{7}{2}\\alpha\\frac{\\rho_a}{\\rho_m}\\right]^{1/2} v$$\n",
    "\n",
    "Where $r$ is the asteroid radius, $\\rho_m$ is the asteroid density (assumed constant) and $\\alpha$ is a spreading coefficient, often taken to be 0.3. It is conventional to define the cross-sectional area of the expanding cloud of fragments as $A = \\pi r^2$ (i.e., assuming a circular cross-section), for use in the above equations. So, the originally spherical asteroid spreads laterally, flattening into a \"pancake\". Fragmentation and spreading **ceases** when the ram pressure drops back below the strength of the meteoroid $\\rho_a v^2 < Y$.\n"
   ]
  },
  {
   "cell_type": "markdown",
   "metadata": {
    "slideshow": {
     "slide_type": "notes"
    }
   },
   "source": [
    "The figure below shows a typical solution to the above set of equations for an impact airburst scenario. The kinetic energy loss per unit height, which is a good approximation for the energy transferred to the atmosphere as heat (and is often referred to as the energy deposited per km altitude), is shown as a function of altitude. \n",
    "\n",
    "<img src=\"images/airburst.png\" width=\"640\">\n",
    "\n",
    "In this scenario the asteroid experiences breakup at approximately 48-km altitude (denoted by the star), before spreading and decelerating rapidly until an altitude of approximately 15 km at which point the **peak energy loss per unit height is maximum**. This point is often considered to be the **burst altitude**. The **total kinetic energy lost** by the asteroid at this point is a good estimate of the **airburst energy** (i.e., the total energy deposited into the atmosphere) for hazard analysis.\n",
    "\n",
    "Impact scenarios with a burst altitude above the surface can be considered to be **airburst events**. Many airburst events do not form a sizable crater on the ground, because even if a substantial fraction of the original asteroid survives to the ground it will be decelerated to a very small fraction of its initial speed.\n",
    "\n",
    "Impact scenarios with a burst altitude below the surface (i.e., peak energy deposition per unit height is not reached before the asteroid strikes the ground) will form a sizable impact crater on the ground and can be considered as a **cratering event** (although a sizable proportion of the original kinetic energy of the asteroid may be transferred to the air).\n",
    "\n",
    "There are some more complex scenarios where a **low altitude airburst combined with a substantial crater-forming event** is likely. This regime is not well understood and for simplicity we will **not consider it here**.\n"
   ]
  },
  {
   "cell_type": "markdown",
   "metadata": {},
   "source": [
    "The rapid deposition of energy in the atmosphere is analogous to an explosion and so the environmental consequences of the airburst can be estimated using empirical data from atmospheric explosion experiments [(Glasstone and Dolan, 1977)](https://www.dtra.mil/Portals/61/Documents/NTPR/4-Rad_Exp_Rpts/36_The_Effects_of_Nuclear_Weapons.pdf).\n",
    "\n",
    "The main cause of damage close to the impact site is a strong (pressure) blastwave in the air, known as the **airblast**. Empirical data suggest that the pressure in this wave $p$ (in Pa) (above ambient, also known as overpressure), as a function of explosion energy $E_k$ (in kilotons of TNT equivalent), burst altitude $z_b$ (in m) and horizontal range $r$ (in m), is given by:\n",
    "\n",
    "\\begin{equation*}\n",
    "p(r) = 3 \\times 10^{11} \\left(\\frac{r^2 + z_b^2}{E_k^{2/3}}\\right)^{-1.3} + 2 \\times 10^{7} \\left(\\frac{r^2 + z_b^2}{E_k^{2/3}}\\right)^{-0.57}\n",
    "\\end{equation*}\n",
    "\n",
    "For airbursts, we will take the total kinetic energy lost by the asteroid at the burst altitude as the burst energy $E_k$. For cratering events, we will define $E_k$ as the **larger** of the total kinetic energy lost by the asteroid at the burst altitude or the residual kinetic energy of the asteroid when it hits the ground.\n",
    "\n",
    "The following threshold pressures can then be used to define different degrees of damage.\n",
    "\n",
    "|  Damage Level |  Description    | Pressure (kPa) |\n",
    "|:-------------:|:---------------:|:--------------:|\n",
    "|  1  |  ~10% glass windows shatter    |     1      |\n",
    "|  2  | ~90% glass windows shatter     |     4      |\n",
    "|  3  | Wood frame buildings collapse  |     30      |\n",
    "|  4  | Multistory brick buildings collapse  |     50      |\n",
    "\n",
    "<p>\n",
    "<div align=\"center\">Table 1: Pressure thresholds (in kPa) for airblast damage</div>\n",
    "\n",
    "According to the equations that we will use in this work, an asteoroid of approximately 7-m radius is required to generate overpressures on the ground exceeding 1 kPa, and an asteroid of approximately 35-m radius is required to generate overpressures on the ground exceeding 50 kPa."
   ]
  },
  {
   "cell_type": "markdown",
   "metadata": {},
   "source": [
    "An example of an airburst event energetic enough to generate overpressures exceeding 50 kPa on the ground is shown below. The circles of different colours denote the different blast zones. The black line is the part of the great circle between the location where the meteoroid entered the atmosphere (initial altitude of 100 km) and the surface zero location (closest point on surface to the burst point).\n",
    "\n",
    "<img src=\"images/blast_damage.png\" width=\"640\">\n"
   ]
  },
  {
   "cell_type": "markdown",
   "metadata": {
    "slideshow": {
     "slide_type": "slide"
    }
   },
   "source": [
    "## Challenge\n",
    "\n",
    "Your task is to develop a Python program with two main features: \n",
    "\n",
    "1. The ability to solve the system of differential equations describing meteoroid entry and compute the burst altitude, burst energy and horizontal path length from the entry point.\n",
    "2. The ability to take these outputs and a location in the UK and determine the predicted extent of airblast damage on the ground and the postcodes and population affected.\n",
    "\n",
    "In the following, we describe the functionality that we would like you to incorporate into these two features. \n",
    "\n",
    "### Airburst solver\n",
    "\n",
    "#### Core functionality\n",
    "\n",
    "Your impact solver tool must take the following inputs\n",
    "\n",
    "* Meteoroid radius (m)\n",
    "* Meteoroid speed (m/s)\n",
    "* Meteoroid density (kg/m$^3$)\n",
    "* Meteoroid strength (Pa)\n",
    "* Meteoroid trajectory angle (degrees)\n",
    "* Solution **output** timestep (s)\n",
    "\n",
    "and return a Pandas dataframe with the following columns:\n",
    "\n",
    "* Time (s), altitude (m), horizontal position (m), speed (m/s), mass (kg), radius (m), kinetic energy loss per unit height (kt/km)\n",
    "\n",
    "and a dictionary of outcomes:\n",
    "\n",
    "* Whether the scenario is an airburst **or** a cratering event\n",
    "* The peak kinetic energy loss per unit height in kt per km (value at ground if cratering event)\n",
    "* The burst altitude in m (0 if cratering event)\n",
    "* The total kinetic energy loss at burst in kt (airburst)\n",
    "* The larger of the total kinetic energy loss or the residual kinetic energy in kt at impact with ground (cratering)\n",
    "* The horizontal path length across Earth's surface in m from the entry point to the burst point (impact point for a cratering event)\n",
    "\n",
    "You should also develop a simple interface for a User to interact with your tool (e.g., jupyter notebook, command-line arguments or example python scripts) and documented functionality to produce simple graphical output of the evolution of the asteroid in the atmosphere (e.g., plots of mass, speed, energy, etc., as a function of altitude or time).\n",
    "\n",
    "Three python function interfaces and a class have been specified for you in `deepimpact/solver.py` to use for the airburst solver. Further details are given in the [AirburstSolver.ipynb](./AirburstSolver.ipynb) notebook.\n"
   ]
  },
  {
   "cell_type": "markdown",
   "metadata": {
    "slideshow": {
     "slide_type": "slide"
    }
   },
   "source": [
    "#### Extension Functionality\n",
    "\n",
    "Additional credit will be given if your airburst solver tool demonstrates the following extended capabilities:\n",
    "\n",
    "* Ability to use a tabulated atmospheric density profile instead of an exponential atmosphere (a tabulated atmospheric profile for Earth is provided in [here](./resources/AltitudeDensityTable.csv)).\n",
    "\n",
    "* Ability to determine asteroid parameters (e.g., strength and radius) that best fit an observed energy deposition curve. As an example, you can use the energy deposition curve inferred for the Chelyabinsk event (available [here](./resources/ChelyabinskEnergyAltitude.csv)). Note that in this data file energy is given in units of [kilotons of TNT](https://en.wikipedia.org/wiki/TNT_equivalent), where 1 kt TNT is equivalent to $4.184 \\times 10^{12}$ J. Note also that the density 3300 kg/m$^3$, impact angle (18.3 degrees to horizontal) and entry velocity (19.2 km/s) are well known from observations ([Popova et al., 2013](http://doi.org/10.1126/science.1242642)). \n"
   ]
  },
  {
   "cell_type": "markdown",
   "metadata": {},
   "source": [
    "### Airblast damage mapper\n",
    "\n",
    "#### Core functionality\n",
    "\n",
    "Your airblast damage mapper tool must take the following external inputs:\n",
    "\n",
    "* Entry latitude (degrees as a decimal)\n",
    "* Entry longitude (degrees as a decimal)\n",
    "* Entry bearing (degrees from north, as a decimal)\n",
    "* Entry altitude (m)\n",
    "\n",
    "Plus the outputs from the airburst solver:\n",
    "\n",
    "* Burst energy (kt TNT)\n",
    "* Burst altitude (m)\n",
    "* Horizontal path length (m)\n",
    "\n",
    "And return the following information, in a series of functions:\n",
    "\n",
    "* The surface zero location of the airburst in latitude and longitude\n",
    "* The airblast damage radii for four different damage thresholds\n",
    "* A list of lists that contains the postcodes in the United Kingdom inside the radius of each airblast damage level (see Table 1). \n",
    "* A list of the number of people that are inside the blast radius for each airblast damage level.\n",
    "\n",
    "To achieve this functionality, you have been given two separate data files. One file contains a list of **postcodes** in the UK together with the latitude and longitude of the centroid of the postcode. The other file contains population data on a 1km x 1km grid over the United Kingdom, along with the associated latitude and longitude of the centroid of each grid cell. \n",
    "\n",
    "Further details are given in the [DamageMapper.ipynb](./DamageMapper.ipynb) notebook."
   ]
  },
  {
   "cell_type": "markdown",
   "metadata": {},
   "source": [
    "#### Extended functionality\n",
    "\n",
    "Additional credit will be given if your damage mapper function demonstrates the following extended capabilities:\n",
    "\n",
    "* The ability to present the software output on a map. The graphics should be designed to be appropriate for use in emergency response and evacuation planning.\n",
    "* The ability to perform a simple uncertainty analysis that takes as input a table of impact scenarios, and calculates a probability for each affected UK postcode, and the total population affected.\n",
    "\n",
    "For this second extension exercise, a separate function `impact_risk` should be written that takes a .csv file as an input. The file will contain a distribution of scenarios, with prescribed values of the radius, angle, velocity, density, strength, entry latitude, entry longitude and bearing for each event. \n",
    "\n",
    "Your function should read this file, and calculate two things:\n",
    "\n",
    "1. The fractional probability that each postcode is within a specified damage level, where the probability is defined as the number of times the postcode is within the specified damage level divided by the number of scenarios in the .csv file. \n",
    "\n",
    "2. The mean and standard deviation of the total population affected by the impact. In this case, we will consider the population affected in a given scenario to be the total population inside the blast radius of a damage level specified by the user as a pressure. For scoring, we will use 30 kPa (wooden buildings collapse).\n",
    "\n",
    "\n",
    "The risk calculator should output a Pandas dataframe with two columns: postcode and probability; and a dictionary with the mean and standard deviation of the total population affected."
   ]
  },
  {
   "cell_type": "markdown",
   "metadata": {},
   "source": [
    "### A note on the use of Generative AI Tools\n",
    "\n",
    "* Use of AI tools (e.g. ChatGPT) is allowed, as long as you use them **responsibly**\n",
    "* Remember not to trust everything generated by AI, and **test/verify** everything that they produce\n",
    "* Any time that you use AI tools, you must add an appropriate **acknowledgement/reference**\n",
    "  * If you have used some code generated by AI in your project, you must add a note to the docstring for the relevant function to acknowledge the source of the code\n",
    "  * In your documentation, you should add a paragraph describing your group's use of AI tools throughout the project. If you have not used AI tools, please state this."
   ]
  },
  {
   "cell_type": "markdown",
   "metadata": {
    "slideshow": {
     "slide_type": "slide"
    }
   },
   "source": [
    "## Assessment\n",
    "\n",
    "The **deadline** for software submission is **Thursday 23rd November, 16:30 UTC**.\n",
    "\n",
    "### Software (70 marks)\n",
    "\n",
    "Your software will be assessed primarily on _functionality_ (**30/70 marks**), _performance_ (**20/70 marks**) and _sustainability and development practices_ (**20/70 marks**).\n",
    "\n",
    "**Functionality** (**30 marks**): Your software will be scored based on its ability to perform a number of automated tests. These are:\n",
    "\n",
    "1. A comparison between your software output and an analytical solution of velocity as a function of **altitude** (**3 marks**). The analytical solution is derived with the simplifying assumptions of exponential atmosphere ($\\rho_a = \\rho_0 e^{-z/H}$), no gravitational acceleration ($g=0$), a flat planet ($R_p = \\infty$), no lift ($C_L = 0$), no mass change owing to ablation ($\\frac{dm}{dt}=0$) and no fragmentation ($\\sigma_0 = \\infty$, $\\frac{dr}{dt}=0$). Note that you should derive this analytical solution and incorporate this into your test framework. An initial altitude of $z_0 = 100,000$ m will be used for this test.\n",
    "\n",
    "2. Correct solution for several sets of asteroid parameters (**7 marks**). Quality of the solution will be based on the error in burst altitude and peak energy deposition rate, as well as solution variables as a function of time. An initial altitude of $z_0 = 100,000$ m will be used for each of these tests.  The following scenarios will be tested:\n",
    "    * Several impacts on Earth with different impactor parameters (from within a realistic distribution) and assuming an exponential atmosphere.\n",
    "    * The same impact on Earth as one of the above scenarios, using the tabulated terrestrial atmosphere provided.\n",
    "\n",
    "3. Correct calculation of the surface zero location and airblast damage radii for specified meteoroid parameters (**3 marks**)\n",
    "\n",
    "4. Correct identification of postcodes inside each damage level for a specified impact scenario (meteoroid parameters and entry location and bearing), as well as the total affected population for each level (**7 marks**).\n",
    "\n",
    "5. Correct identification of high risk postcodes for a specified list of impact scenarios and the mean and standard deviation of the population affected (**10 marks**).\n",
    "   \n",
    "**Performance** (**20 marks**): The time of completion of each of the tests in parts 2, 4 and 5 above will be used to measure the performance of your tool, both to calculate a single scenario and to calculate and synthesise the risk map.\n",
    "\n",
    "Indicative scores of Functionality and Performance will be computed for tests 1, 2, 3 and 4 at two or three points during the week of the project. Test 5 will not be scored until after project submission. Note that the marks for Functionality and Performance will be based on these scores (i.e., higher score implies higher mark), but not necessarily in a linear mapping.\n",
    "\n",
    "**Sustainability and development practices** (**20 marks**): As with any software project, you should employ all elements of best practice in software development you have learned so far (and that were emphasised during the Modern Programming Methods module). A GitHub repository will be created for your project to host your software. The quality, sustainability and documentation of your software will be assessed based on the final version of your repository, but development practices employed throughout the week will also be assessed. Particular attention should be given to the following elements:\n",
    " \n",
    "1. Installation and usage instructions\n",
    "2. Documentation (in HTML / PDF format). Note that a template SPHINX documentation framework has been provided for you as a starting point for your documentation\n",
    "3. Coding style\n",
    "4. Quality and coverage of testing framework and use of continuous integration (GitHub Actions)\n",
    "5. General repository usage, including:\n",
    "    - Project planning and task scheduling by using, e.g., GitHub's `Projects` feature (there will be a demo Monday afternoon)\n",
    "    - Use of feature and development branches\n",
    "    - Code review procedures (e.g. discussion and comments in pull requests leading to code improvements)\n",
    "7. Licensing\n",
    " \n",
    "Please refer to the ACDS handbook for more information about the assessment of software quality."
   ]
  },
  {
   "cell_type": "markdown",
   "metadata": {
    "collapsed": true,
    "jupyter": {
     "outputs_hidden": true
    },
    "slideshow": {
     "slide_type": "slide"
    }
   },
   "source": [
    "### Presentation (20 marks)\n",
    "\n",
    "Your project will also be assessed on the basis of a 15-minute video presentation that you must save or upload your group's private Teams channel before the deadline of **Friday 24th November, 16:00 UTC**.\n",
    "\n",
    "You can record the presentation in any software that you like, but we recommend recording in MS Teams as this allows for automatic uploading to MS Teams.\n",
    "\n",
    "You presentation should provide the following information:\n",
    "\n",
    "1. A brief description of your airburst solver solution algorithm, including ODE solving routine.\n",
    "2. A quantification of the accuracy of your numerical solution for two cases, with and without fragmentation, for User-specified input parameters. It is up to you to design an appropriate demonstration of accuracy, but this could take the form of a plot of error vs. timestep size or error vs. solver tolerance, depending on your solution algorithm. \n",
    "3. A demonstration of how to use your software to determine the impactor parameters (asteroid size & strength) for the Chelyabinsk airburst, by fitting your model solutions of kinetic energy loss per unit height vs. altitude to the inferred energy deposition curve.\n",
    "4. A brief description of your algorithm for finding postcodes and populations within each damage zone\n",
    "5. A demonstration of your software for a specified impact scenario that will be provided on Friday. This demonstration should include your tool's impact risk functionality if possible. \n"
   ]
  },
  {
   "cell_type": "markdown",
   "metadata": {},
   "source": [
    "### Friday\n",
    "\n",
    "The deadline for submitting your code is **Thursday 23rd November, 16:30 UTC**. On the following day, no further changes to the functionality of your tool can be made, but you can work on the following three activities:\n",
    "\n",
    "1. Scenario analysis: On Friday morning, you will be given details of an impact scenario somewhere in the UK that you should use to demonstrate the functionality of your tool for the video presentation.  In addition to a single set of nominal impact parameters for the scenario, you will be given data files with 10, 100, 1000, etc., scenarios with similar impact parameters that will test your tool's impact risk functionality. You should attempt to run your tool for the largest sample size that you think you have time to model and include the results in your presentation.\n",
    "\n",
    "2. Documentation: you can modify files in your repository on Friday for the purpose of improving documentation. This can include adding the the README file, adding to the SPHINX documentation and improving docstrings in the code files. You must not make any changes to code functionality on Friday. This would be a good time to write your paragraph summarising the use of AI tools during the project. \n",
    "\n",
    "3. Video presentation: you can prepare and record your presentation on Friday. Your group will be allocated 1-2 hours in a quiet space on Friday afternoon where you can record your presentation.\n",
    "\n",
    "The deadline for these three activities is **Friday 24th November, 16:00 UTC**.\n"
   ]
  },
  {
   "cell_type": "markdown",
   "metadata": {
    "slideshow": {
     "slide_type": "slide"
    }
   },
   "source": [
    "### Teamwork (peer assessment; 10 marks)\n",
    "\n",
    "After the presentations, you will complete a self-evaluation of your group's performance. This will inform the teamwork component of your mark. Please refer to the ACDS guidelines for more information about the assessment of teamwork."
   ]
  },
  {
   "cell_type": "markdown",
   "metadata": {
    "slideshow": {
     "slide_type": "slide"
    }
   },
   "source": [
    "## Technical requirements\n",
    " \n",
    "* You should use the assigned GitHub repository exclusively for your project.\n",
    "* Your software must be written to work in Python 3.10 or later.\n",
    "* You are free to import any module from the standard python libraries as well as numpy, matplotlib, pandas, dask, scipy, mpltools and sympy (see the `requirements.txt` for the full list of preapproved packages in the environment).\n",
    "* You have been given some geographic mapping examples using folium, but can request to use an alternative mapping package if you've used it previously. Requests should be submitted by 5pm GMT on Wednesday.\n",
    "* For solving the ODEs you **must write your own ODE solution algorithm**. You can make use of any of your own implementations of algorithms that you have learned in Computational Maths, however you are not permitted to use the in-built ODE solvers in scipy (e.g., `odeint`, `solve_ivp`).\n",
    "* You are not allowed to import other python packages without authorization (if in doubt, please query with the Module Coordinator).\n",
    "* You can assume that Users of your software will have pytest installed, so this does not need to be part of your repository.\n",
    "* You should use GitHub Actions for any automated testing and generation of documentation that you implement.\n",
    "* You do not need to make a Graphical User Interface for your software: the program can be run via the command line in a Python 3.10+ environment."
   ]
  },
  {
   "cell_type": "code",
   "execution_count": null,
   "metadata": {},
   "outputs": [],
   "source": []
  }
 ],
 "metadata": {
  "celltoolbar": "Slideshow",
  "hide_input": false,
  "kernelspec": {
   "display_name": "Python 3 (ipykernel)",
   "language": "python",
   "name": "python3"
  },
  "language_info": {
   "codemirror_mode": {
    "name": "ipython",
    "version": 3
   },
   "file_extension": ".py",
   "mimetype": "text/x-python",
   "name": "python",
   "nbconvert_exporter": "python",
   "pygments_lexer": "ipython3",
   "version": "3.10.8"
  },
  "toc": {
   "base_numbering": 1,
   "nav_menu": {},
   "number_sections": true,
   "sideBar": true,
   "skip_h1_title": false,
   "title_cell": "Table of Contents",
   "title_sidebar": "Contents",
   "toc_cell": false,
   "toc_position": {},
   "toc_section_display": true,
   "toc_window_display": false
  }
 },
 "nbformat": 4,
 "nbformat_minor": 4
}
